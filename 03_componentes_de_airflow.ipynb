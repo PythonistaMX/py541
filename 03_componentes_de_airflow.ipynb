{
 "cells": [
  {
   "cell_type": "markdown",
   "metadata": {},
   "source": [
    "[![img/pythonista.png](img/pythonista.png)](https://www.pythonista.io)"
   ]
  },
  {
   "cell_type": "markdown",
   "metadata": {},
   "source": [
    "# *Apache Airflow*."
   ]
  },
  {
   "cell_type": "markdown",
   "metadata": {},
   "source": [
    "La dunción principal de *Apache Airflow* es la de ejecturar flujos de trabajo (*workflos*) o *pipelines* contenidos en *scripts* de *Python*, los cuales describen [*Grafos Acíclicos Dirigidos*](https://es.wikipedia.org/wiki/Grafo_ac%C3%ADclico_dirigido) o [*DAGs*](https://airflow.apache.org/docs/apache-airflow/stable/core-concepts/dags.html)."
   ]
  },
  {
   "cell_type": "markdown",
   "metadata": {},
   "source": [
    "Un *DAG* de *Apache Airflow* está compuesto por:\n",
    "\n",
    "* Una definición del *DAG*.\n",
    "* [Tareas](https://airflow.apache.org/docs/apache-airflow/stable/core-concepts/tasks.html).\n",
    "* [Operadores](https://airflow.apache.org/docs/apache-airflow/stable/core-concepts/operators.html).\n",
    "* [Relaciones de operadores](https://airflow.apache.org/docs/apache-airflow/stable/core-concepts/tasks.html#relationships).\n",
    "\n",
    "Cada nodo del *DAG* es una *tarea* que corresponde a un objeto *callable* de *Python*."
   ]
  },
  {
   "cell_type": "markdown",
   "metadata": {},
   "source": [
    "## La interfaz pública de *Airflow*."
   ]
  },
  {
   "cell_type": "markdown",
   "metadata": {},
   "source": [
    "La interfaz pública de *Apache Airflow* es un conjunto de interfaces que permiten a los desarrolladores interactuar y acceder a ciertas funciones del sistema *Apache Airflow*. \n",
    "\n",
    "Esto incluye operaciones como la creación y gestión de *DAGs*, la gestión de tareas (*tasks*) y sus dependencias, así como la ampliación de las capacidades de *Apache Airflow* mediante la creación de nuevos ejecutores, complementos, operadores y proveedores. \n",
    "\n",
    "La interfaz pública puede ser útil para crear herramientas personalizadas e integraciones con otros sistemas, y para automatizar ciertos aspectos del flujo de trabajo de *Apache Airflow*."
   ]
  },
  {
   "cell_type": "markdown",
   "metadata": {},
   "source": [
    "## El paquete ```airflow```."
   ]
  },
  {
   "cell_type": "markdown",
   "metadata": {},
   "source": [
    "El paquete ```airflow``` contiene los componentes de código necesarios para armar los *DAGs*. Algunos de los módulos principales son:\n",
    "\n",
    "* ```airflow.models```\n",
    "    * [```airflow.models.dag```](https://airflow.apache.org/docs/apache-airflow/stable/_api/airflow/models/dag/index.html)\n",
    "    * [```airflow.models.dagbag```](https://airflow.apache.org/docs/apache-airflow/stable/_api/airflow/models/dagbag/index.html)\n",
    "    * [```airflow.models.param```](https://airflow.apache.org/docs/apache-airflow/stable/_api/airflow/models/dag/param.html)\n",
    "* [```airflow.operators```](https://airflow.apache.org/docs/apache-airflow/stable/_api/airflow/operators/)\n",
    "* [```airflow.decorators```](https://airflow.apache.org/docs/apache-airflow/stable/_api/airflow/decorators/)\n",
    "* [```airflow.sensors```](https://airflow.apache.org/docs/apache-airflow/stable/_api/airflow/sensors)"
   ]
  },
  {
   "cell_type": "markdown",
   "metadata": {},
   "source": [
    "## Variables y XCom"
   ]
  },
  {
   "cell_type": "markdown",
   "metadata": {},
   "source": [
    "## *DAGs* de ejemplo."
   ]
  },
  {
   "cell_type": "markdown",
   "metadata": {},
   "source": [
    "https://airflow.apache.org/docs/apache-airflow/stable/_api/airflow/example_dags/index.html"
   ]
  },
  {
   "cell_type": "markdown",
   "metadata": {},
   "source": [
    "<p style=\"text-align: center\"><a rel=\"license\" href=\"http://creativecommons.org/licenses/by/4.0/\"><img alt=\"Licencia Creative Commons\" style=\"border-width:0\" src=\"https://i.creativecommons.org/l/by/4.0/80x15.png\" /></a><br />Esta obra está bajo una <a rel=\"license\" href=\"http://creativecommons.org/licenses/by/4.0/\">Licencia Creative Commons Atribución 4.0 Internacional</a>.</p>\n",
    "<p style=\"text-align: center\">&copy; José Luis Chiquete Valdivieso. 2023.</p>"
   ]
  }
 ],
 "metadata": {
  "kernelspec": {
   "display_name": "Python 3 (ipykernel)",
   "language": "python",
   "name": "python3"
  },
  "language_info": {
   "codemirror_mode": {
    "name": "ipython",
    "version": 3
   },
   "file_extension": ".py",
   "mimetype": "text/x-python",
   "name": "python",
   "nbconvert_exporter": "python",
   "pygments_lexer": "ipython3",
   "version": "3.10.6"
  }
 },
 "nbformat": 4,
 "nbformat_minor": 4
}
