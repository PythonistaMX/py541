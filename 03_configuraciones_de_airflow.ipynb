{
 "cells": [
  {
   "cell_type": "markdown",
   "metadata": {},
   "source": [
    "[![img/pythonista.png](img/pythonista.png)](https://www.pythonista.io)"
   ]
  },
  {
   "cell_type": "markdown",
   "metadata": {},
   "source": [
    "# Configuración de *Apache Airflow*."
   ]
  },
  {
   "cell_type": "markdown",
   "metadata": {},
   "source": [
    "*Apache Airflow* es una aplicación que puede ser instalada de muy diversas formas y puede gestionar distintos tipos de clusters de cómputo."
   ]
  },
  {
   "cell_type": "markdown",
   "metadata": {},
   "source": [
    "## Instalación de *Apache Airflow*."
   ]
  },
  {
   "cell_type": "markdown",
   "metadata": {},
   "source": [
    "* A partir del códipo fuente.\n",
    "* Mediante el respositorios de [*PyPi*](https://pypi.org/project/apache-airflow/) usando herramientas como ```pip```.\n",
    "* Usando las imágenes oficiales de [*Docker*](https://hub.docker.com/r/apache/airflow).\n",
    "* Mendiante el [*Helm*](https://airflow.apache.org/docs/helm-chart/stable/index.html).\n",
    "* Mediante servicios gestionados, como es el caso de [*Cloud Composer*](https://cloud.google.com/composer).\n",
    "\n",
    "https://airflow.apache.org/docs/apache-airflow/stable/installation/index.html"
   ]
  },
  {
   "cell_type": "markdown",
   "metadata": {},
   "source": [
    "## El directorio ```airflow```."
   ]
  },
  {
   "cell_type": "markdown",
   "metadata": {},
   "source": [
    "Cuando se ejecuta ```airflow``` sin privilegios escalados, la aplicación crea una carpeta llamada ```airflow```en el *home* del usuario."
   ]
  },
  {
   "cell_type": "markdown",
   "metadata": {},
   "source": [
    "**Ejemplo:**"
   ]
  },
  {
   "cell_type": "markdown",
   "metadata": {},
   "source": [
    "* La siguiente celda mostrará el contenido de la carpeta ```airflow``` en el *home* del usuario actual."
   ]
  },
  {
   "cell_type": "code",
   "execution_count": null,
   "metadata": {
    "scrolled": true
   },
   "outputs": [],
   "source": [
    "%ls ~/airflow"
   ]
  },
  {
   "cell_type": "markdown",
   "metadata": {},
   "source": [
    "* En este caso, la contraseña de la ejecución ```standalone``` se encuentra en el archivo ```~/airflow/standalone_admin_password.txt```."
   ]
  },
  {
   "cell_type": "code",
   "execution_count": null,
   "metadata": {},
   "outputs": [],
   "source": [
    "! cat ~/airflow/standalone_admin_password.txt"
   ]
  },
  {
   "cell_type": "markdown",
   "metadata": {},
   "source": [
    "### El archivo ```airflow.cfg```.\n",
    "\n",
    "El archivo ```airflow.cfg``` contiene la configuración general de *Apache Airflow*, incluyendo entre ortas cosas¨\n",
    "\n",
    "* La conexión a la base de datos de los metadatos.\n",
    "* Las credenciaoles para *GCP*.\n",
    "* Configuraciones de sdeguridad.\n",
    "* Uso de recursos.\n",
    "* Tipos de *runners*.\n",
    "* Conmfiguración de bitácoras (*logging*).\n",
    "\n",
    "https://airflow.apache.org/docs/apache-airflow/stable/howto/set-config.html"
   ]
  },
  {
   "cell_type": "code",
   "execution_count": null,
   "metadata": {
    "scrolled": false
   },
   "outputs": [],
   "source": [
    "%cat ~/airflow/airflow.cfg"
   ]
  },
  {
   "cell_type": "markdown",
   "metadata": {},
   "source": [
    "### El archivo ```webserver_config.py```.\n",
    "\n",
    "La *web UI* de *Apache Airflow* funciona sobre *Flask* y la configuración del servicio web se localiza en el archivo ```webserver_config.py```.\n",
    "\n",
    "https://airflow.apache.org/docs/apache-airflow/stable/howto/set-config.html#configuring-flask-application-for-airflow-webserver"
   ]
  },
  {
   "cell_type": "markdown",
   "metadata": {},
   "source": [
    "### El directorio ```airflow/dags```.\n",
    "\n",
    "Los *DAGs* son scripts de *Python* los cuales son colocados en el directorio ```airflow/dags```."
   ]
  },
  {
   "cell_type": "markdown",
   "metadata": {},
   "source": [
    "<p style=\"text-align: center\"><a rel=\"license\" href=\"http://creativecommons.org/licenses/by/4.0/\"><img alt=\"Licencia Creative Commons\" style=\"border-width:0\" src=\"https://i.creativecommons.org/l/by/4.0/80x15.png\" /></a><br />Esta obra está bajo una <a rel=\"license\" href=\"http://creativecommons.org/licenses/by/4.0/\">Licencia Creative Commons Atribución 4.0 Internacional</a>.</p>\n",
    "<p style=\"text-align: center\">&copy; José Luis Chiquete Valdivieso. 2023.</p>"
   ]
  }
 ],
 "metadata": {
  "kernelspec": {
   "display_name": "Python 3 (ipykernel)",
   "language": "python",
   "name": "python3"
  },
  "language_info": {
   "codemirror_mode": {
    "name": "ipython",
    "version": 3
   },
   "file_extension": ".py",
   "mimetype": "text/x-python",
   "name": "python",
   "nbconvert_exporter": "python",
   "pygments_lexer": "ipython3",
   "version": "3.9.2"
  }
 },
 "nbformat": 4,
 "nbformat_minor": 4
}
